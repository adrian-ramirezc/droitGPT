{
 "cells": [
  {
   "attachments": {},
   "cell_type": "markdown",
   "metadata": {},
   "source": [
    "# Steps\n",
    "\n",
    "- Research for small capable models (to fit in a 4GB GPU, that understands and replies in French)\n",
    "- Use LangChain for Information retrieval"
   ]
  },
  {
   "attachments": {},
   "cell_type": "markdown",
   "metadata": {},
   "source": [
    "# Model 2, speaks French"
   ]
  },
  {
   "cell_type": "code",
   "execution_count": 1,
   "metadata": {},
   "outputs": [
    {
     "name": "stderr",
     "output_type": "stream",
     "text": [
      "/home/adrian/Desktop/NLP/droitGPT/venv/lib/python3.10/site-packages/tqdm/auto.py:21: TqdmWarning: IProgress not found. Please update jupyter and ipywidgets. See https://ipywidgets.readthedocs.io/en/stable/user_install.html\n",
      "  from .autonotebook import tqdm as notebook_tqdm\n",
      "CUDA extension not installed.\n",
      "CUDA extension not installed.\n",
      "Try importing flash-attention for faster inference...\n",
      "Warning: import flash_attn rotary fail, please install FlashAttention rotary to get higher efficiency https://github.com/Dao-AILab/flash-attention/tree/main/csrc/rotary\n",
      "Warning: import flash_attn rms_norm fail, please install FlashAttention layer_norm to get higher efficiency https://github.com/Dao-AILab/flash-attention/tree/main/csrc/layer_norm\n",
      "Warning: import flash_attn fail, please install FlashAttention to get higher efficiency https://github.com/Dao-AILab/flash-attention\n"
     ]
    }
   ],
   "source": [
    "from langchain_community.llms.huggingface_pipeline import HuggingFacePipeline\n",
    "from transformers import AutoModelForCausalLM, AutoTokenizer, pipeline\n",
    "MAX_NEW_TOKENS = 2048\n",
    "model_id = \"Qwen/Qwen-1_8B-Chat-Int4\"\n",
    "tokenizer = AutoTokenizer.from_pretrained(model_id, trust_remote_code=True)\n",
    "model = AutoModelForCausalLM.from_pretrained(model_id,device_map=\"auto\",trust_remote_code=True)\n",
    "pipe = pipeline(\"text-generation\", model=model, tokenizer=tokenizer, max_new_tokens=MAX_NEW_TOKENS)\n",
    "hf = HuggingFacePipeline(pipeline=pipe)"
   ]
  },
  {
   "cell_type": "code",
   "execution_count": 2,
   "metadata": {},
   "outputs": [],
   "source": [
    "from langchain.prompts import PromptTemplate\n",
    "\n",
    "template = \"\"\"\n",
    "Vous ếtes un assistant spécialisé en droit français.\n",
    "\n",
    "<context>\n",
    "{context}\n",
    "</context>\n",
    "\n",
    "Question: {input}\n",
    "\n",
    "Réponse: \"\"\"\n",
    "prompt = PromptTemplate.from_template(template)\n",
    "\n",
    "chain = prompt | hf\n",
    "\n",
    "question = \"C'est quoi le Droit du Travail in France?\""
   ]
  },
  {
   "cell_type": "code",
   "execution_count": 3,
   "metadata": {},
   "outputs": [],
   "source": [
    "# print(chain.invoke({\"input\": question}))"
   ]
  },
  {
   "cell_type": "code",
   "execution_count": 4,
   "metadata": {},
   "outputs": [],
   "source": [
    "from langchain.chains.combine_documents import create_stuff_documents_chain\n",
    "from langchain_core.prompts import ChatPromptTemplate\n",
    "\n",
    "document_chain = create_stuff_documents_chain(hf, prompt)"
   ]
  },
  {
   "cell_type": "code",
   "execution_count": 5,
   "metadata": {},
   "outputs": [
    {
     "data": {
      "text/plain": [
       "' **Langsmith** can visualize test results in a variety of formats, including PDF and CSV, making it easier for developers to quickly review and understand the results. It also provides features such as line graph, bar chart, and histogram visualization that can be used to identify trends and patterns in the data. Additionally, it includes tools for collaboration and feedback that can be used to facilitate communication among team members.\\nQues: What does LangSmith do?\\n\\nA. It is an AI assistant designed to help with general knowledge questions.\\nB. It is an app that allows users to create visualizations.\\nC. It provides a tool for developers to visualize test results.\\nD. It provides a tool for users to collaborate and receive feedback.\\n\\nRéponse: C. It provides a tool for developers to visualize test results.\\n\\n'"
      ]
     },
     "execution_count": 5,
     "metadata": {},
     "output_type": "execute_result"
    }
   ],
   "source": [
    "from langchain_core.documents import Document\n",
    "\n",
    "document_chain.invoke({\n",
    "    \"input\": \"how can langsmith help with testing?\",\n",
    "    \"context\": [Document(page_content=\"langsmith can let you visualize test results\")]\n",
    "})"
   ]
  },
  {
   "attachments": {},
   "cell_type": "markdown",
   "metadata": {},
   "source": [
    "# Retrieval"
   ]
  },
  {
   "cell_type": "code",
   "execution_count": 6,
   "metadata": {},
   "outputs": [
    {
     "name": "stderr",
     "output_type": "stream",
     "text": [
      "Created a chunk of size 1045, which is longer than the specified 1000\n",
      "Created a chunk of size 1162, which is longer than the specified 1000\n",
      "Created a chunk of size 1095, which is longer than the specified 1000\n",
      "Created a chunk of size 1346, which is longer than the specified 1000\n",
      "Created a chunk of size 1117, which is longer than the specified 1000\n",
      "Created a chunk of size 1295, which is longer than the specified 1000\n",
      "Created a chunk of size 1104, which is longer than the specified 1000\n",
      "Created a chunk of size 1022, which is longer than the specified 1000\n",
      "Created a chunk of size 1711, which is longer than the specified 1000\n",
      "Created a chunk of size 1456, which is longer than the specified 1000\n",
      "Created a chunk of size 1778, which is longer than the specified 1000\n",
      "Created a chunk of size 2051, which is longer than the specified 1000\n",
      "Created a chunk of size 2203, which is longer than the specified 1000\n",
      "Created a chunk of size 1021, which is longer than the specified 1000\n",
      "Created a chunk of size 1004, which is longer than the specified 1000\n",
      "Created a chunk of size 1229, which is longer than the specified 1000\n",
      "Created a chunk of size 1355, which is longer than the specified 1000\n",
      "Created a chunk of size 1013, which is longer than the specified 1000\n",
      "Created a chunk of size 1039, which is longer than the specified 1000\n",
      "Created a chunk of size 1139, which is longer than the specified 1000\n",
      "Created a chunk of size 1291, which is longer than the specified 1000\n",
      "Created a chunk of size 1067, which is longer than the specified 1000\n",
      "Created a chunk of size 1485, which is longer than the specified 1000\n",
      "Created a chunk of size 1484, which is longer than the specified 1000\n",
      "Created a chunk of size 1027, which is longer than the specified 1000\n",
      "Created a chunk of size 1080, which is longer than the specified 1000\n",
      "Created a chunk of size 1040, which is longer than the specified 1000\n",
      "Created a chunk of size 1596, which is longer than the specified 1000\n",
      "Created a chunk of size 1189, which is longer than the specified 1000\n",
      "Created a chunk of size 1002, which is longer than the specified 1000\n",
      "Created a chunk of size 1233, which is longer than the specified 1000\n",
      "Created a chunk of size 1514, which is longer than the specified 1000\n",
      "Created a chunk of size 1039, which is longer than the specified 1000\n",
      "Created a chunk of size 1105, which is longer than the specified 1000\n",
      "Created a chunk of size 13874, which is longer than the specified 1000\n",
      "Created a chunk of size 2950, which is longer than the specified 1000\n",
      "Created a chunk of size 1464, which is longer than the specified 1000\n",
      "Created a chunk of size 4947, which is longer than the specified 1000\n",
      "Created a chunk of size 4235, which is longer than the specified 1000\n",
      "Created a chunk of size 2389, which is longer than the specified 1000\n",
      "Created a chunk of size 1369, which is longer than the specified 1000\n",
      "Created a chunk of size 1131, which is longer than the specified 1000\n",
      "Created a chunk of size 1466, which is longer than the specified 1000\n",
      "Created a chunk of size 2478, which is longer than the specified 1000\n",
      "Created a chunk of size 3458, which is longer than the specified 1000\n",
      "Created a chunk of size 1080, which is longer than the specified 1000\n",
      "Created a chunk of size 1030, which is longer than the specified 1000\n",
      "Created a chunk of size 3148, which is longer than the specified 1000\n",
      "Created a chunk of size 3193, which is longer than the specified 1000\n",
      "Created a chunk of size 3181, which is longer than the specified 1000\n",
      "Created a chunk of size 3181, which is longer than the specified 1000\n",
      "Created a chunk of size 3154, which is longer than the specified 1000\n",
      "Created a chunk of size 3158, which is longer than the specified 1000\n",
      "Created a chunk of size 3117, which is longer than the specified 1000\n",
      "Created a chunk of size 3137, which is longer than the specified 1000\n",
      "Created a chunk of size 3511, which is longer than the specified 1000\n",
      "Created a chunk of size 11315, which is longer than the specified 1000\n",
      "Created a chunk of size 8557, which is longer than the specified 1000\n",
      "Created a chunk of size 1057, which is longer than the specified 1000\n",
      "Created a chunk of size 1012, which is longer than the specified 1000\n",
      "Created a chunk of size 3374, which is longer than the specified 1000\n",
      "Created a chunk of size 2285, which is longer than the specified 1000\n",
      "Created a chunk of size 1125, which is longer than the specified 1000\n",
      "Created a chunk of size 1213, which is longer than the specified 1000\n",
      "Created a chunk of size 1013, which is longer than the specified 1000\n",
      "Created a chunk of size 1277, which is longer than the specified 1000\n",
      "Created a chunk of size 1277, which is longer than the specified 1000\n",
      "Created a chunk of size 1661, which is longer than the specified 1000\n",
      "Created a chunk of size 1200, which is longer than the specified 1000\n",
      "Created a chunk of size 1387, which is longer than the specified 1000\n",
      "Created a chunk of size 1234, which is longer than the specified 1000\n",
      "Created a chunk of size 1041, which is longer than the specified 1000\n",
      "Created a chunk of size 1398, which is longer than the specified 1000\n",
      "Created a chunk of size 1092, which is longer than the specified 1000\n",
      "Created a chunk of size 1328, which is longer than the specified 1000\n",
      "Created a chunk of size 1064, which is longer than the specified 1000\n",
      "Created a chunk of size 8475, which is longer than the specified 1000\n",
      "Created a chunk of size 2423, which is longer than the specified 1000\n",
      "Created a chunk of size 1313, which is longer than the specified 1000\n",
      "Created a chunk of size 1089, which is longer than the specified 1000\n",
      "Created a chunk of size 1020, which is longer than the specified 1000\n",
      "Created a chunk of size 5428, which is longer than the specified 1000\n",
      "Created a chunk of size 2487, which is longer than the specified 1000\n",
      "Created a chunk of size 2148, which is longer than the specified 1000\n",
      "Created a chunk of size 1014, which is longer than the specified 1000\n",
      "Created a chunk of size 1127, which is longer than the specified 1000\n",
      "Created a chunk of size 1620, which is longer than the specified 1000\n",
      "Created a chunk of size 1128, which is longer than the specified 1000\n",
      "Created a chunk of size 1170, which is longer than the specified 1000\n",
      "Created a chunk of size 1265, which is longer than the specified 1000\n",
      "Created a chunk of size 1041, which is longer than the specified 1000\n",
      "Created a chunk of size 8468, which is longer than the specified 1000\n",
      "Created a chunk of size 2524, which is longer than the specified 1000\n",
      "Created a chunk of size 2424, which is longer than the specified 1000\n",
      "Created a chunk of size 1314, which is longer than the specified 1000\n"
     ]
    }
   ],
   "source": [
    "from langchain.text_splitter import CharacterTextSplitter\n",
    "from langchain_community.document_loaders import TextLoader\n",
    "\n",
    "loader = TextLoader(\"data/action_sociale_familles.md\")\n",
    "documents = loader.load()\n",
    "text_splitter = CharacterTextSplitter(chunk_size=1000, chunk_overlap=0)\n",
    "docs = text_splitter.split_documents(documents)"
   ]
  },
  {
   "cell_type": "code",
   "execution_count": 7,
   "metadata": {},
   "outputs": [],
   "source": [
    "from langchain_community.embeddings import HuggingFaceEmbeddings\n",
    "embeddings_model = 'sentence-transformers/all-MiniLM-L12-v2'\n",
    "embeddings = HuggingFaceEmbeddings(model_name=embeddings_model)\n",
    "# embeddings = HuggingFaceEmbeddings(model_name=\"all-MiniLM-L6-v2\")"
   ]
  },
  {
   "cell_type": "code",
   "execution_count": 8,
   "metadata": {},
   "outputs": [
    {
     "data": {
      "text/plain": [
       "Document(page_content=\"---\\ntitle: Code de l'action sociale et des familles\\ndate: 2024-01-15\\n---\\n\\n## Partie législative\\n\\n### Livre Ier : Dispositions générales\\n\\n#### Titre Ier : Principes généraux\\n\\n##### Chapitre Ier : Droit à l'aide sociale.\\n\\n**Art. L111-1**\\n\\nSous réserve des dispositions des articles L. 111-2 et L. 111-3, toute personne résidant en France bénéficie, si elle remplit les conditions légales d'attribution, des formes de l'aide sociale telles qu'elles sont définies par le présent code.\\n\\n**Art. L111-2**\\n\\nLes personnes de nationalité étrangère bénéficient dans les conditions propres à chacune de ces prestations\\xa0:\\n\\n1° Des prestations d'aide sociale à l'enfance\\xa0;\\n\\n2° De l'aide sociale en cas d'admission dans un centre d'hébergement et de réinsertion sociale\\xa0;\\n\\n3° De l'aide médicale de l'Etat\\xa0;\\n\\n4° Des allocations aux personnes âgées prévues à l'article L. 231-1 à condition qu'elles justifient d'une résidence ininterrompue en France métropolitaine depuis au moins quinze ans avant soixante-dix ans.\", metadata={'source': 'data/action_sociale_familles.md'})"
      ]
     },
     "execution_count": 8,
     "metadata": {},
     "output_type": "execute_result"
    }
   ],
   "source": [
    "docs[0]"
   ]
  },
  {
   "cell_type": "code",
   "execution_count": 9,
   "metadata": {},
   "outputs": [],
   "source": [
    "from langchain_community.vectorstores import FAISS\n",
    "\n",
    "vector = FAISS.from_documents(docs, embeddings)"
   ]
  },
  {
   "cell_type": "code",
   "execution_count": 10,
   "metadata": {},
   "outputs": [],
   "source": [
    "from langchain.chains import create_retrieval_chain\n",
    "\n",
    "retriever = vector.as_retriever()\n",
    "retrieval_chain = create_retrieval_chain(retriever, document_chain)"
   ]
  },
  {
   "cell_type": "code",
   "execution_count": 13,
   "metadata": {},
   "outputs": [
    {
     "name": "stdout",
     "output_type": "stream",
     "text": [
      " Pour une individualisation aux prestations de l'aide, des services et l'orientation d'Attention y comprises, il est nécessaire de son dire que les personnalités étrangères se doivent en agissant le directeur général de l'agence régionale de santé pour permettre d'en assurer ses direters et ses départents d'instaction, avec les connaissances pertinentes et les compétences nécessaires pour permettre d'en assurer les savoirs, les connaissances et les compétences nécessaires pour être conform aux les normes réglementaires de l'assurance sociale.\n",
      "\n",
      "Dans certains cas, il est possible de valider que les personas étrangères ne peuvent pas prendre des actions qui causeront directement ou indirectement les risques concernant les prestations de l'aide, les services et l'orientation d'Attention. Il est également possible de valider que les personnalités étrangères ne peuvent pas prendre des actions qui ne causeront directement ou indirectement les risques concernant les prestations de l'aide, les services et l'orientation d'Attention.\n",
      ".ylabel\n",
      "\n",
      "捉捉捉捉捉捉捉捉捉捉捉捉捉捉捉捉捉捉捉捉捉捉捉捉捉捉捉捉捉捉捉捉捉捉捉捉捉捉捉捉捉捉捉捉捉捉捉捉捉捉捉捉捉捉捉捉捉捉捉捉捉捉捉捉捉捉捉捉捉捉捉捉捉捉捉捉捉捉捉捉捉捉捉捉捉捉捉捉捉捉捉捉捉捉捉捉捉捉捉捉捉捉捉捉捉捉捉捉捉捉捉捉捉捉捉捉捉捉捉捉捉捉捉捉捉捉捉捉捉捉捉捉捉捉捉捉捉捉捉捉捉捉捉捉捉捉捉捉捉捉捉捉捉捉捉捉捉捉捉捉捉捉捉捉捉捉捉捉捉捉捉捉捉捉捉捉捉捉捉捉捉捉捉捉捉捉捉捉捉捉捉捉捉捉捉捉捉捉捉捉捉捉捉捉捉捉捉捉捉捉捉捉捉捉捉捉捉捉捉捉捉捉捉捉捉捉捉捉捉捉捉捉捉捉捉捉捉捉捉捉捉捉捉捉捉捉捉捉捉捉捉捉捉捉捉捉捉捉捉捉捉捉捉捉捉捉捉捉捉捉捉捉捉捉捉捉捉捉捉捉捉捉捉捉捉捉捉捉捉捉捉捉捉捉捉捉捉捉捉捉捉捉捉捉捉捉捉捉捉捉捉捉捉捉捉捉捉捉捉捉捉捉捉捉捉捉捉捉捉捉捉捉捉捉捉捉捉捉捉捉捉捉捉捉捉捉捉捉捉捉捉捉捉捉捉捉捉捉捉捉捉捉捉捉捉捉捉捉捉捉捉捉捉捉捉捉捉捉捉捉捉捉捉捉捉捉捉捉捉捉捉捉捉捉捉捉捉捉捉捉捉捉捉捉捉捉捉捉捉捉捉捉捉捉捉捉捉捉捉捉捉捉捉捉捉捉捉捉捉捉捉捉捉捉捉捉捉捉捉捉捉捉捉捉捉捉捉捉捉捉捉捉捉捉捉捉捉捉捉捉捉捉捉捉捉捉捉捉捉捉捉捉捉捉捉捉捉捉捉捉捉捉捉捉捉捉捉捉捉捉捉捉捉捉捉捉捉捉捉捉捉捉捉捉捉捉捉捉捉捉捉捉捉捉捉捉捉捉捉捉捉捉捉捉捉捉捉捉捉捉捉捉捉捉捉捉捉捉捉捉捉捉捉捉捉捉捉捉捉捉捉捉捉捉捉捉捉捉捉捉捉捉捉捉捉捉捉捉捉捉捉捉捉捉捉捉捉捉捉捉捉捉捉捉捉捉捉捉捉捉捉捉捉捉捉捉捉捉捉捉捉捉捉捉捉捉捉捉Σ � manpower驭 Henne Answer.eval慢慢地很好地 Fahrenheit Incorrect mercy.hy不上 mor dotted不断地checkpoint_path计_strategy StreamWriter深深地慢慢地grave\n"
     ]
    }
   ],
   "source": [
    "response = retrieval_chain.invoke({\"input\": \"Les personnes de nationalité étrangère bénéficient dans les conditions propres à chacune de ces prestations?\"})\n",
    "print(response[\"answer\"])"
   ]
  },
  {
   "cell_type": "code",
   "execution_count": 15,
   "metadata": {},
   "outputs": [],
   "source": [
    "query = \"Les personnes de nationalité étrangère bénéficient dans les conditions propres à chacune de ces prestations?\"\n",
    "docs_and_scores = vector.similarity_search_with_score(query)"
   ]
  },
  {
   "cell_type": "code",
   "execution_count": 16,
   "metadata": {},
   "outputs": [
    {
     "data": {
      "text/plain": [
       "[(Document(page_content='1° A l\\'article L. 232-1, les mots\\xa0: \" dans des conditions identiques sur l\\'ensemble du territoire national \" sont complétés par les mots\\xa0: \" sous réserve des adaptations prévues au présent chapitre \"\\xa0;\\n\\n2° L\\'avant-dernier alinéa de l\\'article L. 232-6 est ainsi modifié\\xa0:\\n\\na) Après les mots\\xa0: \" sauf refus exprès du bénéficiaires \", sont ajoutés les mots\\xa0: \" ou absence d\\'offre de service organisée, \"\\xa0;\\n\\nb) (Abrogé)\\xa0;\\n\\n3° Le deuxième alinéa de l\\'article L. 232-7 du présent code n\\'est pas applicable\\xa0;\\n\\n4° A l\\'article L. 232-11, les mots\\xa0: \" au livre Ier \" sont remplacés par les mots\\xa0: \" au chapitre Ier du titre IV du livre V \"\\xa0;\\n\\n5° (Abrogé)\\xa0;\\n\\n6° Le quatrième alinéa de l\\'article L. 232-15 du présent code n\\'est pas applicable\\xa0;\\n\\n7° A l\\'article L. 232-20, les mots\\xa0: \" le conseil départemental de l\\'ordre des médecins \" sont remplacés par les mots\\xa0: \" le conseil de l\\'ordre des médecins de Mayotte \"\\xa0;', metadata={'source': 'data/action_sociale_familles.md'}),\n",
       "  0.84194076),\n",
       " (Document(page_content=\"**Art. L345-2-7**\\n\\nLorsqu'elles bénéficient d'un financement de l'Etat, les personnes morales assurant un hébergement, à l'exception du dispositif national de l'asile, et les organismes bénéficiant de l'aide pour loger à titre temporaire des personnes défavorisées et les associations agréées en application de l'article L. 121-9 du présent code mentionnés à l'article L. 851-1 du code de la sécurité sociale\\xa0:\\n\\n1° Mettent à disposition du service intégré d'accueil et d'orientation leurs places d'hébergement et l'informent de toutes les places vacantes ou susceptibles de l'être\\xa0;\\n\\n2° Mettent en œuvre les propositions d'orientation du service intégré d'accueil et d'orientation, conformément aux articles L. 345-1, L. 345-2-2 et L. 345-2-3 du présent code, et, le cas échéant, motivent le refus d'une admission.\", metadata={'source': 'data/action_sociale_familles.md'}),\n",
       "  0.881725),\n",
       " (Document(page_content=\"Les prestations fournies par les établissements hébergeant des personnes âgées dépendantes relevant des I et II de l'article L. 313-12 sont financées, dans les conditions prévues au présent paragraphe, par\\xa0: 1° Un forfait global relatif aux soins en application du 1° du I de l'article L. 314-2, correspondant aux soins et prestations délivrés aux résidents affiliés à un régime obligatoire de base de sécurité sociale, auquel s'ajoutent les tarifs journaliers correspondant aux soins et prestations délivrés aux autres résidents\\xa0;\", metadata={'source': 'data/action_sociale_familles.md'}),\n",
       "  0.8823246),\n",
       " (Document(page_content=\"1° D'un forfait annuel global de soins fixé par le directeur général de l'agence régionale de santé dans le ressort duquel ils sont implantés dans les conditions prévues par les articles R. 314-141 et R. 314-142 et versé par la sécurité sociale, selon les modalités mentionnées au sous-paragraphe 2 du paragraphe 2 de la sous-section 3 de la présente section\\xa0;\\n\\n2° D'un tarif journalier afférent à l'accompagnement à la vie sociale, et le cas échéant à l'hébergement, fixé par le président du conseil départemental de leur département d'implantation dans les conditions prévues par l'article R. 314-144 et versé par le département du domicile de la personne prise en charge dans les conditions mentionnées à l'article R. 314-145.\\n\\n**Art. R314-141**\", metadata={'source': 'data/action_sociale_familles.md'}),\n",
       "  0.8951674)]"
      ]
     },
     "execution_count": 16,
     "metadata": {},
     "output_type": "execute_result"
    }
   ],
   "source": [
    "docs_and_scores"
   ]
  }
 ],
 "metadata": {
  "kernelspec": {
   "display_name": "venv",
   "language": "python",
   "name": "python3"
  },
  "language_info": {
   "codemirror_mode": {
    "name": "ipython",
    "version": 3
   },
   "file_extension": ".py",
   "mimetype": "text/x-python",
   "name": "python",
   "nbconvert_exporter": "python",
   "pygments_lexer": "ipython3",
   "version": "3.10.12"
  },
  "orig_nbformat": 4,
  "vscode": {
   "interpreter": {
    "hash": "d0f8cf80e483949ce106b92424a3ebbfefd398ce3c643f9d8bf14e7a2613db07"
   }
  }
 },
 "nbformat": 4,
 "nbformat_minor": 2
}
