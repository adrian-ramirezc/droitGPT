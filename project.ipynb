{
 "cells": [
  {
   "attachments": {},
   "cell_type": "markdown",
   "metadata": {},
   "source": [
    "# droitGPT"
   ]
  },
  {
   "attachments": {},
   "cell_type": "markdown",
   "metadata": {},
   "source": [
    "# LLM: Qwen-1_8B-Chat-Int4"
   ]
  },
  {
   "cell_type": "code",
   "execution_count": null,
   "metadata": {},
   "outputs": [],
   "source": [
    "from langchain_community.llms.huggingface_pipeline import HuggingFacePipeline\n",
    "from transformers import AutoModelForCausalLM, AutoTokenizer, pipeline\n",
    "\n",
    "MAX_NEW_TOKENS = 8192\n",
    "\"\"\"\n",
    "Source: \n",
    "- context length: https://huggingface.co/Qwen/Qwen-1_8B-Chat-Int4\n",
    "\"\"\"\n",
    "MODEL_ID = \"Qwen/Qwen-1_8B-Chat-Int4\"\n",
    "\n",
    "tokenizer = AutoTokenizer.from_pretrained(MODEL_ID, trust_remote_code=True)\n",
    "model = AutoModelForCausalLM.from_pretrained(MODEL_ID,device_map=\"auto\",trust_remote_code=True)\n",
    "pipe = pipeline(\"text-generation\", model=model, tokenizer=tokenizer, max_new_tokens=MAX_NEW_TOKENS)\n",
    "hf = HuggingFacePipeline(pipeline=pipe)"
   ]
  },
  {
   "attachments": {},
   "cell_type": "markdown",
   "metadata": {},
   "source": [
    "# Test LLM with specific context"
   ]
  },
  {
   "cell_type": "code",
   "execution_count": null,
   "metadata": {},
   "outputs": [],
   "source": [
    "from langchain.prompts import PromptTemplate\n",
    "from langchain.chains.combine_documents import create_stuff_documents_chain\n",
    "\n",
    "template = \"\"\"\n",
    "Vous êtes un assistant spécialisé en droit français.\n",
    "<context>\n",
    "{context}\n",
    "</context>\n",
    "Question: {input}\n",
    "Réponse: Expliquez les termes simplement.\n",
    "\"\"\"\n",
    "\n",
    "prompt = PromptTemplate.from_template(template)\n",
    "document_chain = create_stuff_documents_chain(hf, prompt)"
   ]
  },
  {
   "cell_type": "code",
   "execution_count": null,
   "metadata": {},
   "outputs": [],
   "source": [
    "from langchain_core.documents import Document\n",
    "\n",
    "specific_context = \"\"\"\n",
    "D'un point de vue idéologique, le droit français désigne un système juridique fondé sur une structure\n",
    "écrite et codifiée, qui s'oppose tout à la fois aux autres droits européens influencés par le droit\n",
    "romano-civiliste et aux systèmes de common law.\n",
    "\"\"\" \n",
    "\n",
    "document_chain.invoke({\n",
    "    \"input\": \"C'est quoi le droit français?\",\n",
    "    \"context\": [Document(page_content=specific_context)]\n",
    "})"
   ]
  },
  {
   "attachments": {},
   "cell_type": "markdown",
   "metadata": {},
   "source": [
    "# Sentence Transformers\n",
    "- Il faut trouver un modèle Sentence Transformers gratuit (donc pas de OpenAI Embeddings ni Ollama Embeddings)\n",
    "- Ce modèle doit être pre-entrainé pour la comparaison semantique\n",
    "- Ce modèle doit comprendre le français\n",
    "\n",
    "Source https://www.sbert.net/docs/pretrained_models.html"
   ]
  },
  {
   "cell_type": "code",
   "execution_count": 11,
   "metadata": {},
   "outputs": [
    {
     "name": "stderr",
     "output_type": "stream",
     "text": [
      "/home/adrian/Desktop/NLP/droitGPT/venv/lib/python3.10/site-packages/tqdm/auto.py:21: TqdmWarning: IProgress not found. Please update jupyter and ipywidgets. See https://ipywidgets.readthedocs.io/en/stable/user_install.html\n",
      "  from .autonotebook import tqdm as notebook_tqdm\n"
     ]
    }
   ],
   "source": [
    "from langchain_community.embeddings import HuggingFaceEmbeddings\n",
    "\n",
    "embeddings_model_id = 'sentence-transformers/paraphrase-multilingual-MiniLM-L12-v2'\n",
    "embeddings = HuggingFaceEmbeddings(model_name=embeddings_model_id)"
   ]
  },
  {
   "attachments": {},
   "cell_type": "markdown",
   "metadata": {},
   "source": [
    "# Corpus\n",
    "On va se limiter a 3 codes juridiques"
   ]
  },
  {
   "attachments": {},
   "cell_type": "markdown",
   "metadata": {},
   "source": [
    "## Clean Corpus"
   ]
  },
  {
   "cell_type": "code",
   "execution_count": 25,
   "metadata": {},
   "outputs": [],
   "source": [
    "import os\n",
    "import re\n",
    "\n",
    "data_folder = \"data\"\n",
    "relevant_files = [\"travail.md\", \"education.md\", \"electoral.md\"]\n",
    "\n",
    "clean_data_folder_name = \"clean_data\"\n",
    "\n",
    "if not os.path.exists(clean_data_folder_name):\n",
    "        os.makedirs(clean_data_folder_name)\n",
    "\n",
    "for file in os.listdir(data_folder):\n",
    "    if file in relevant_files:\n",
    "        file_path = data_folder + \"/\" + file \n",
    "        clean_file_path = clean_data_folder_name + \"/clean_\" + file\n",
    "        with open(file_path, \"r\", encoding=\"utf-8\") as f:\n",
    "            text = f.read()\n",
    "\n",
    "            # Transform textdata with re here\n",
    "            pattern1 = re.compile(r'---.*?---', re.DOTALL) # remove title and date \n",
    "            text = re.sub(pattern1, '', text)\n",
    "            \n",
    "            pattern2 = re.compile(r'#+.*\\n') # remove Markdown titles\n",
    "            text = re.sub(pattern2, '', text)\n",
    "\n",
    "            pattern2 = re.compile(r'\\*\\*.*\\*\\*') # remove Article titles\n",
    "            text = re.sub(pattern2, '', text)\n",
    "\n",
    "            pattern3 = re.compile(r'<div.*</div>') # remove html content (simple approach, usually tables)\n",
    "            text = re.sub(pattern3, '', text)\n",
    "\n",
    "            pattern4 = re.compile(r'([:;])\\n+') # form paragraphs\n",
    "            text = re.sub(pattern4,lambda x: x.group(1) + ' ', text)\n",
    "\n",
    "            with open(clean_file_path, \"w\", encoding=\"utf-8\") as f:\n",
    "                f.write(text)"
   ]
  },
  {
   "cell_type": "code",
   "execution_count": 26,
   "metadata": {},
   "outputs": [],
   "source": [
    "import os\n",
    "import re\n",
    "\n",
    "from langchain_community.document_loaders import TextLoader\n",
    "from langchain_core.documents import Document\n",
    "\n",
    "\n",
    "CHUNK_SIZE = 1000\n",
    "CHUNK_OVERLAP = 0\n",
    "\n",
    "data_folder = \"clean_data\"\n",
    "documents = []\n",
    "for file in os.listdir(data_folder):\n",
    "    filename = os.fsdecode(data_folder + \"/\" + file)\n",
    "    loader = TextLoader(filename)\n",
    "    documents += loader.load()\n",
    "\n",
    "docs = []\n",
    "for doc in documents:\n",
    "    texts = re.split('\\n+', doc.page_content)\n",
    "    texts = [text for text in texts if text]\n",
    "    for text in texts:\n",
    "        docs.append(Document(page_content = text, metadata=doc.metadata))"
   ]
  },
  {
   "cell_type": "code",
   "execution_count": 27,
   "metadata": {},
   "outputs": [
    {
     "name": "stdout",
     "output_type": "stream",
     "text": [
      "35102\n",
      "\n",
      "page_content=\"Tout projet de réforme envisagé par le Gouvernement qui porte sur les relations individuelles et collectives du travail, l'emploi et la formation professionnelle et qui relève du champ de la négociation nationale et interprofessionnelle fait l'objet d'une concertation préalable avec les organisations syndicales de salariés et d'employeurs représentatives au niveau national et interprofessionnel en vue de l'ouverture éventuelle d'une telle négociation.\" metadata={'source': 'clean_data/clean_travail.md'}\n",
      "\n",
      "page_content='Elles sont également applicables au personnel des personnes publiques employé dans les conditions du droit privé.' metadata={'source': 'clean_data/clean_travail.md'}\n"
     ]
    }
   ],
   "source": [
    "print(len(docs))\n",
    "print()\n",
    "print(docs[0])\n",
    "print()\n",
    "print(docs[100])"
   ]
  },
  {
   "attachments": {},
   "cell_type": "markdown",
   "metadata": {},
   "source": [
    "# Vector Database"
   ]
  },
  {
   "cell_type": "code",
   "execution_count": 28,
   "metadata": {},
   "outputs": [],
   "source": [
    "from langchain_community.vectorstores import FAISS\n",
    "\n",
    "vector = FAISS.from_documents(docs, embeddings)"
   ]
  },
  {
   "attachments": {},
   "cell_type": "markdown",
   "metadata": {},
   "source": [
    "# Querying the Database\n",
    "On voit que les docs récuperés de la base de données sont en fait similaires au requête"
   ]
  },
  {
   "cell_type": "code",
   "execution_count": 15,
   "metadata": {},
   "outputs": [],
   "source": [
    "def print_retrieved_docs(docs_and_scores):\n",
    "    for i, (doc, score) in enumerate(docs_and_scores):\n",
    "        print(f\"Top {i+1}\")\n",
    "        print(doc.page_content)\n",
    "        print()"
   ]
  },
  {
   "cell_type": "code",
   "execution_count": 16,
   "metadata": {},
   "outputs": [
    {
     "name": "stdout",
     "output_type": "stream",
     "text": [
      "Top 1\n",
      "L'utilisation de la langue des signes dans l'éducation des jeunes sourds est régie par les articles R. 351-21 à R. 351-26.\n",
      "\n",
      "Top 2\n",
      "Les établissements ou services relevant du 2° du I de l'article L. 312-1 du code de l'action sociale et des familles qui soit assurent en leur sein la scolarisation des jeunes sourds, soit contribuent à leur projet personnalisé de scolarisation lorsqu'ils sont scolarisés dans des écoles ou des établissements scolaires, ainsi que les établissements dont la création ou l'extension sont envisagées, élaborent un document annexé au projet d'établissement ou de service relatif aux conditions d'éducation et au parcours scolaire proposés aux jeunes sourds.\n",
      "\n",
      "Top 3\n",
      "Dans l'éducation et le parcours scolaire des jeunes sourds, la liberté de choix entre une communication bilingue, langue des signes et langue française, et une communication en langue française est de droit. Un décret en Conseil d'Etat fixe, d'une part, les conditions d'exercice de ce choix pour les jeunes sourds et leurs familles, d'autre part, les dispositions à prendre par les établissements et services où est assurée l'éducation des jeunes sourds pour garantir l'application de ce choix.\n",
      "\n",
      "Top 4\n",
      "Le mode de communication adopté par le jeune sourd est inscrit dans le projet de vie mentionné à l'article R. 146-28 du code de l'action sociale et des familles, après un diagnostic constatant les difficultés d'accès à la communication orale et la nécessité du recours à des modalités adaptées de communication. Ce choix peut être confirmé, précisé ou modifié dans le projet de vie.\n",
      "\n"
     ]
    }
   ],
   "source": [
    "query = \"L'éducation des jeunes sourds\"\n",
    "docs_and_scores = vector.similarity_search_with_score(query)\n",
    "print_retrieved_docs(docs_and_scores)"
   ]
  },
  {
   "cell_type": "code",
   "execution_count": 17,
   "metadata": {},
   "outputs": [
    {
     "name": "stdout",
     "output_type": "stream",
     "text": [
      "Top 1\n",
      "III. – Bénéficie également de l'allocation de professionnalisation et de solidarité le travailleur involontairement privé d'emploi qui justifie de 507 heures de travail au cours des dix-huit mois qui précèdent la date de fin de la période d'indemnisation ouverte au titre de la clause de rattrapage prévue aux annexes mentionnées au I.\n",
      "\n",
      "Top 2\n",
      "Il peut être conclu afin de pourvoir un emploi permanent qui, par nature, comporte une alternance de périodes travaillées et de périodes non travaillées.\n",
      "\n",
      "Top 3\n",
      "La dérogation, prévue à l'article L. 5132-15-1 en cas de cumul avec un autre contrat de travail à temps partiel, à la durée hebdomadaire de travail minimale du titulaire d'un contrat à durée déterminée conclu en application de l'article L. 1242-3, est autorisée par le préfet, après examen par la structure d'insertion par l'activité économique qui emploie le salarié, de la situation de celui-ci au regard de l'emploi et des actions d'accompagnement et de formation conduites dans le cadre du parcours d'insertion par l'activité économique selon les conditions suivantes : — elle ne peut pas être accordée au titre d'un contrat de travail à temps partiel conclu avec une structure mentionnée aux articles L. 5132-4 et L. 5213-13 autre que l'employeur ; — elle ne peut être autorisée qu'à compter de quatre mois après l'entrée en parcours d'insertion par l'activité économique ; — la période durant laquelle il peut être dérogé à la durée hebdomadaire minimale de vingt heures ne peut excéder six mois ; — cette dérogation peut être renouvelée une fois, après examen de la situation de l'intéressé par le préfet fondé notamment sur un bilan des perspectives d'évolution professionnelle du salarié transmis par l'employeur.\n",
      "\n",
      "Top 4\n",
      "Est réputée immédiatement disponible pour occuper un emploi, au sens de l'article L. 5411-7, la personne qui, au moment de son inscription à Pôle emploi ou du renouvellement de sa demande d'emploi : 1° Exerce ou a exercé au cours du mois précédent une activité occasionnelle ou réduite n'excédant pas soixante-dix-huit heures par mois ; 2° Suit une action de formation n'excédant pas au total quarante heures ou dont les modalités d'organisation, notamment sous forme de cours du soir ou par correspondance, lui permettent d'occuper simultanément un emploi ; 3° S'absente de son domicile habituel, après en avoir avisé Pôle emploi, dans la limite de trente-cinq jours dans l'année civile ; 4° Est en congé de maladie ou en incapacité temporaire de travail, pour une durée n'excédant pas quinze jours ; 5° Est incarcérée pour une durée n'excédant pas quinze jours ; 6° Bénéficie d'un congé de paternité.\n",
      "\n"
     ]
    }
   ],
   "source": [
    "query = \"Contrat de travail à durée déterminée\"\n",
    "docs_and_scores = vector.similarity_search_with_score(query)\n",
    "print_retrieved_docs(docs_and_scores)"
   ]
  },
  {
   "cell_type": "code",
   "execution_count": 19,
   "metadata": {},
   "outputs": [
    {
     "name": "stdout",
     "output_type": "stream",
     "text": [
      "Top 1\n",
      "de meubles aux enchères publiques\n",
      "\n",
      "Top 2\n",
      "de meubles aux enchères publiques</b>\n",
      "\n",
      "Top 3\n",
      "Les biens.\n",
      "\n",
      "Top 4\n",
      "des courtiers de marchandises assermentés\n",
      "\n"
     ]
    }
   ],
   "source": [
    "query = \"Le surffrage\"\n",
    "docs_and_scores = vector.similarity_search_with_score(query)\n",
    "print_retrieved_docs(docs_and_scores)"
   ]
  },
  {
   "cell_type": "code",
   "execution_count": null,
   "metadata": {},
   "outputs": [],
   "source": [
    "from langchain.chains import create_retrieval_chain\n",
    "\n",
    "retriever = vector.as_retriever()\n",
    "retrieval_chain = create_retrieval_chain(retriever, document_chain)"
   ]
  },
  {
   "cell_type": "code",
   "execution_count": null,
   "metadata": {},
   "outputs": [],
   "source": [
    "response = retrieval_chain.invoke({\"input\": query})\n",
    "print(response[\"answer\"])"
   ]
  },
  {
   "cell_type": "code",
   "execution_count": null,
   "metadata": {},
   "outputs": [],
   "source": [
    "response"
   ]
  },
  {
   "attachments": {},
   "cell_type": "markdown",
   "metadata": {},
   "source": [
    "# TODO\n",
    "- Clean data before indexing (embeddings computation)\n",
    "- increase model output tokens ? "
   ]
  }
 ],
 "metadata": {
  "kernelspec": {
   "display_name": "venv",
   "language": "python",
   "name": "python3"
  },
  "language_info": {
   "codemirror_mode": {
    "name": "ipython",
    "version": 3
   },
   "file_extension": ".py",
   "mimetype": "text/x-python",
   "name": "python",
   "nbconvert_exporter": "python",
   "pygments_lexer": "ipython3",
   "version": "3.10.12"
  },
  "orig_nbformat": 4,
  "vscode": {
   "interpreter": {
    "hash": "d0f8cf80e483949ce106b92424a3ebbfefd398ce3c643f9d8bf14e7a2613db07"
   }
  }
 },
 "nbformat": 4,
 "nbformat_minor": 2
}
