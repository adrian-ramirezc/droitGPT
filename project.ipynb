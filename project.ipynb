{
 "cells": [
  {
   "attachments": {},
   "cell_type": "markdown",
   "metadata": {},
   "source": [
    "# droitGPT"
   ]
  },
  {
   "attachments": {},
   "cell_type": "markdown",
   "metadata": {},
   "source": [
    "# LLM: Qwen-1_8B-Chat-Int4"
   ]
  },
  {
   "cell_type": "code",
   "execution_count": 1,
   "metadata": {},
   "outputs": [
    {
     "name": "stderr",
     "output_type": "stream",
     "text": [
      "/home/jurbanog/Projects/droitGPT/venv/lib/python3.10/site-packages/tqdm/auto.py:21: TqdmWarning: IProgress not found. Please update jupyter and ipywidgets. See https://ipywidgets.readthedocs.io/en/stable/user_install.html\n",
      "  from .autonotebook import tqdm as notebook_tqdm\n",
      "model.safetensors: 100%|██████████| 1.88G/1.88G [04:22<00:00, 7.14MB/s]\n",
      "Try importing flash-attention for faster inference...\n",
      "Warning: import flash_attn rotary fail, please install FlashAttention rotary to get higher efficiency https://github.com/Dao-AILab/flash-attention/tree/main/csrc/rotary\n",
      "Warning: import flash_attn rms_norm fail, please install FlashAttention layer_norm to get higher efficiency https://github.com/Dao-AILab/flash-attention/tree/main/csrc/layer_norm\n",
      "Warning: import flash_attn fail, please install FlashAttention to get higher efficiency https://github.com/Dao-AILab/flash-attention\n",
      "generation_config.json: 100%|██████████| 249/249 [00:00<00:00, 1.54MB/s]\n"
     ]
    }
   ],
   "source": [
    "from langchain_community.llms.huggingface_pipeline import HuggingFacePipeline\n",
    "from transformers import AutoModelForCausalLM, AutoTokenizer, pipeline\n",
    "\n",
    "MAX_NEW_TOKENS = 8192\n",
    "\"\"\"\n",
    "Source:\n",
    "- context length: https://huggingface.co/Qwen/Qwen-1_8B-Chat-Int4\n",
    "\"\"\"\n",
    "MODEL_ID = \"Qwen/Qwen-1_8B-Chat-Int4\"\n",
    "\n",
    "tokenizer = AutoTokenizer.from_pretrained(MODEL_ID, trust_remote_code=True)\n",
    "model = AutoModelForCausalLM.from_pretrained(MODEL_ID,device_map=\"auto\",trust_remote_code=True)\n",
    "pipe = pipeline(\"text-generation\", model=model, tokenizer=tokenizer, max_new_tokens=MAX_NEW_TOKENS)\n",
    "hf = HuggingFacePipeline(pipeline=pipe)"
   ]
  },
  {
   "cell_type": "code",
   "execution_count": null,
   "metadata": {},
   "outputs": [],
   "source": []
  },
  {
   "cell_type": "code",
   "execution_count": null,
   "metadata": {},
   "outputs": [],
   "source": []
  },
  {
   "attachments": {},
   "cell_type": "markdown",
   "metadata": {},
   "source": [
    "# Model performance - English\n",
    "Answer is good enough"
   ]
  },
  {
   "cell_type": "code",
   "execution_count": 2,
   "metadata": {},
   "outputs": [
    {
     "name": "stdout",
     "output_type": "stream",
     "text": [
      " Electroencephalography (EEG) is a medical procedure that measures electrical activity in the brain. It uses electrodes placed on the scalp to detect and record brain waves.\n",
      "\n",
      "So, the answer is  Electroencephalography.\n",
      "\n"
     ]
    }
   ],
   "source": [
    "from langchain.prompts import PromptTemplate\n",
    "\n",
    "template = \"\"\"Question: {question}\n",
    "\n",
    "Answer: Let's think step by step.\"\"\"\n",
    "prompt = PromptTemplate.from_template(template)\n",
    "\n",
    "chain = prompt | hf\n",
    "\n",
    "question = \"What is electroencephalography?\"\n",
    "\n",
    "print(chain.invoke({\"question\": question}))"
   ]
  },
  {
   "attachments": {},
   "cell_type": "markdown",
   "metadata": {},
   "source": [
    "# Model performance - French\n",
    "Answer is good enough"
   ]
  },
  {
   "cell_type": "code",
   "execution_count": 4,
   "metadata": {},
   "outputs": [
    {
     "name": "stdout",
     "output_type": "stream",
     "text": [
      " L'électroencéphalographie est un dispositif qui permet aux gens d'extraire des informations sur leur corps en utilisant une capture de la lumière émise par leurs yeux. Cela peut être utile pour plusieurs raisons, notamment pour diagnostices médicas, aid à la gestion des maladies cardiovasculaires et bien plus encore.\n",
      "\n",
      "1. Installation du dispositif : Le first step is to install the electroencephalograph (EEG) device in your home or office. This usually involves connecting it to a power outlet and then placing it on a flat surface such as a table.\n",
      "2. La capture de la lumière : Once you have connected the EEG device to a power outlet, you can begin capturing the light from your eyes. The device will use a micro-photometer to measure the amount of light that reaches its sensors.\n",
      "3. Analyse des données : After capturing the light from your eyes, the EEG data will be analyzed using specialized software. This process involves converting the raw data into numerical representations, such as a graph or heatmap.\n",
      "4. Obtenir des résultats : Based on the analysis of the EEG data, healthcare professionals can obtain insights about various aspects of your brain function, including cognitive abilities, mood, and potential neurological disorders.\n",
      "\n",
      "L'électroencephalographie est un instrument indispensable pour les personnes intéressées par les questions neurologiques, mais il n'est pas utilisé couramment dans le monde entier pour une grande large de vos domaines d'intérêt. Il y a quelques différences entre l'utilisation de l'électroencephalographie dans certaines cultures et pays, ainsi que certaines limitations liées à sa portabilité et à son coût.\n",
      "\n"
     ]
    }
   ],
   "source": [
    "from langchain.prompts import PromptTemplate\n",
    "\n",
    "template = \"\"\"Question: {question}\n",
    "\n",
    "Réponse: Réfléchissons étape par étape.\"\"\"\n",
    "prompt = PromptTemplate.from_template(template)\n",
    "\n",
    "chain = prompt | hf\n",
    "\n",
    "question = \"Qu’est-ce que l’électroencéphalographie ?\"\n",
    "\n",
    "print(chain.invoke({\"question\": question}))"
   ]
  },
  {
   "attachments": {},
   "cell_type": "markdown",
   "metadata": {},
   "source": [
    "# Test LLM with specific context\n",
    "Good performance so far"
   ]
  },
  {
   "cell_type": "code",
   "execution_count": 5,
   "metadata": {},
   "outputs": [],
   "source": [
    "from langchain.prompts import PromptTemplate\n",
    "from langchain.chains.combine_documents import create_stuff_documents_chain\n",
    "\n",
    "template = \"\"\"\n",
    "Vous êtes un assistant spécialisé en codes juridiques français.\n",
    "\n",
    "Utilisez les informations suivantes pour répondre à la question:\n",
    "{context}\n",
    "\n",
    "Question: {input}\n",
    "\n",
    "Réponse: En utilisant le contexte, répondre à la question.\n",
    "\"\"\"\n",
    "\n",
    "prompt = PromptTemplate.from_template(template)\n",
    "document_chain = create_stuff_documents_chain(hf, prompt)"
   ]
  },
  {
   "cell_type": "code",
   "execution_count": 8,
   "metadata": {},
   "outputs": [
    {
     "name": "stdout",
     "output_type": "stream",
     "text": [
      "Le Peuple français proclame solennellement son attachement aux Droits de l'Homme et aux principes de la souveraineté nationale tels qu'ils ont été définis par la Déclaration de 1789, confirmée et complétée par le préambule de la Constitution de 1946, ainsi qu'aux droits et devoirs définis dans la Charte de l'environnement de 2004.\n",
      "\n"
     ]
    }
   ],
   "source": [
    "from langchain_core.documents import Document\n",
    "\n",
    "specific_context = \"\"\"Le Peuple français proclame solennellement son attachement aux Droits de l'Homme et aux principes de la souveraineté nationale tels qu'ils ont été définis par la Déclaration de 1789, confirmée et complétée par le préambule de la Constitution de 1946, ainsi qu'aux droits et devoirs définis dans la Charte de l'environnement de 2004.\"\"\"\n",
    "\n",
    "response = document_chain.invoke({\n",
    "    \"input\": \"Quels sont les éléments auxquels le Peuple français proclame solennellement son attachement dans ce texte ?\",\n",
    "    \"context\": [Document(page_content=specific_context)]\n",
    "})\n",
    "print(response)"
   ]
  },
  {
   "attachments": {},
   "cell_type": "markdown",
   "metadata": {},
   "source": [
    "# Sentence Transformers\n",
    "- Il faut trouver un modèle Sentence Transformers gratuit (donc pas de OpenAI Embeddings ni Ollama Embeddings)\n",
    "- Ce modèle doit être pre-entrainé pour la comparaison semantique\n",
    "- Ce modèle doit comprendre le français\n",
    "\n",
    "Source https://www.sbert.net/docs/pretrained_models.html"
   ]
  },
  {
   "cell_type": "code",
   "execution_count": 10,
   "metadata": {},
   "outputs": [
    {
     "name": "stderr",
     "output_type": "stream",
     "text": [
      ".gitattributes: 100%|██████████| 968/968 [00:00<00:00, 6.24MB/s]\n",
      "1_Pooling/config.json: 100%|██████████| 190/190 [00:00<00:00, 506kB/s]\n",
      "README.md: 100%|██████████| 4.09k/4.09k [00:00<00:00, 22.1MB/s]\n",
      "config.json: 100%|██████████| 645/645 [00:00<00:00, 3.50MB/s]\n",
      "config_sentence_transformers.json: 100%|██████████| 122/122 [00:00<00:00, 659kB/s]\n",
      "pytorch_model.bin: 100%|██████████| 471M/471M [01:19<00:00, 5.94MB/s] \n",
      "sentence_bert_config.json: 100%|██████████| 53.0/53.0 [00:00<00:00, 353kB/s]\n",
      "sentencepiece.bpe.model: 100%|██████████| 5.07M/5.07M [00:00<00:00, 5.87MB/s]\n",
      "special_tokens_map.json: 100%|██████████| 239/239 [00:00<00:00, 1.38MB/s]\n",
      "tokenizer.json: 100%|██████████| 9.08M/9.08M [00:01<00:00, 8.73MB/s]\n",
      "tokenizer_config.json: 100%|██████████| 480/480 [00:00<00:00, 2.25MB/s]\n",
      "unigram.json: 100%|██████████| 14.8M/14.8M [00:01<00:00, 8.16MB/s]\n",
      "modules.json: 100%|██████████| 229/229 [00:00<00:00, 1.47MB/s]\n",
      "/home/jurbanog/Projects/droitGPT/venv/lib/python3.10/site-packages/torch/_utils.py:831: UserWarning: TypedStorage is deprecated. It will be removed in the future and UntypedStorage will be the only storage class. This should only matter to you if you are using storages directly.  To access UntypedStorage directly, use tensor.untyped_storage() instead of tensor.storage()\n",
      "  return self.fget.__get__(instance, owner)()\n"
     ]
    }
   ],
   "source": [
    "from langchain_community.embeddings import HuggingFaceEmbeddings\n",
    "\n",
    "embeddings_model_id = 'sentence-transformers/paraphrase-multilingual-MiniLM-L12-v2'\n",
    "embeddings = HuggingFaceEmbeddings(model_name=embeddings_model_id)"
   ]
  },
  {
   "attachments": {},
   "cell_type": "markdown",
   "metadata": {},
   "source": [
    "# Corpus\n",
    "On va se limiter a 3 codes juridiques"
   ]
  },
  {
   "attachments": {},
   "cell_type": "markdown",
   "metadata": {},
   "source": [
    "## Clean Corpus"
   ]
  },
  {
   "cell_type": "code",
   "execution_count": 14,
   "metadata": {},
   "outputs": [],
   "source": [
    "import os\n",
    "import re\n",
    "\n",
    "data_folder = \"data\"\n",
    "relevant_files = [\"travail.md\", \"education.md\", \"electoral.md\"]\n",
    "\n",
    "clean_data_folder_name = \"clean_data\"\n",
    "\n",
    "if not os.path.exists(clean_data_folder_name):\n",
    "        os.makedirs(clean_data_folder_name)\n",
    "\n",
    "for file in os.listdir(data_folder):\n",
    "    if file in relevant_files:\n",
    "        file_path = data_folder + \"/\" + file\n",
    "        clean_file_path = clean_data_folder_name + \"/clean_\" + file\n",
    "        with open(file_path, \"r\", encoding=\"utf-8\") as f:\n",
    "            text = f.read()\n",
    "\n",
    "            # Transform textdata with re here\n",
    "            pattern1 = re.compile(r'---.*?---', re.DOTALL) # remove title and date\n",
    "            text = re.sub(pattern1, '', text)\n",
    "\n",
    "            pattern2 = re.compile(r'#+.*\\n') # remove Markdown titles\n",
    "            text = re.sub(pattern2, '', text)\n",
    "\n",
    "            pattern2 = re.compile(r'\\*\\*.*\\*\\*') # remove Article titles\n",
    "            text = re.sub(pattern2, '', text)\n",
    "\n",
    "            pattern3 = re.compile(r'<div.*</div>') # remove html content (simple approach, usually tables)\n",
    "            text = re.sub(pattern3, '', text)\n",
    "\n",
    "            pattern4 = re.compile(r'([:;])\\n+') # form paragraphs\n",
    "            text = re.sub(pattern4,lambda x: x.group(1) + ' ', text)\n",
    "\n",
    "            with open(clean_file_path, \"w\", encoding=\"utf-8\") as f:\n",
    "                f.write(text)"
   ]
  },
  {
   "cell_type": "code",
   "execution_count": 27,
   "metadata": {},
   "outputs": [
    {
     "name": "stdout",
     "output_type": "stream",
     "text": [
      "clean_data/clean_travail.md\n",
      "clean_data/clean_education.md\n",
      "clean_data/clean_electoral.md\n"
     ]
    }
   ],
   "source": [
    "import os\n",
    "import re\n",
    "\n",
    "from langchain_community.document_loaders import TextLoader\n",
    "from langchain_core.documents import Document\n",
    "\n",
    "\n",
    "CHUNK_SIZE = 1000\n",
    "CHUNK_OVERLAP = 0\n",
    "\n",
    "data_folder = \"clean_data\"\n",
    "documents = []\n",
    "for file in os.listdir(data_folder):\n",
    "    filename = os.fsdecode(data_folder + \"/\" + file)\n",
    "    loader = TextLoader(filename, encoding='utf-8')\n",
    "    documents += loader.load()\n",
    "\n",
    "docs = []\n",
    "for doc in documents:\n",
    "    texts = re.split('\\n+', doc.page_content)\n",
    "    texts = [text for text in texts if text]\n",
    "    for text in texts:\n",
    "        docs.append(Document(page_content = text, metadata=doc.metadata))"
   ]
  },
  {
   "cell_type": "code",
   "execution_count": 28,
   "metadata": {},
   "outputs": [
    {
     "name": "stdout",
     "output_type": "stream",
     "text": [
      "35102\n",
      "\n",
      "page_content=\"Tout projet de réforme envisagé par le Gouvernement qui porte sur les relations individuelles et collectives du travail, l'emploi et la formation professionnelle et qui relève du champ de la négociation nationale et interprofessionnelle fait l'objet d'une concertation préalable avec les organisations syndicales de salariés et d'employeurs représentatives au niveau national et interprofessionnel en vue de l'ouverture éventuelle d'une telle négociation.\" metadata={'source': 'clean_data/clean_travail.md'}\n",
      "\n",
      "page_content='Elles sont également applicables au personnel des personnes publiques employé dans les conditions du droit privé.' metadata={'source': 'clean_data/clean_travail.md'}\n"
     ]
    }
   ],
   "source": [
    "print(len(docs))\n",
    "print()\n",
    "print(docs[0])\n",
    "print()\n",
    "print(docs[100])"
   ]
  },
  {
   "attachments": {},
   "cell_type": "markdown",
   "metadata": {},
   "source": [
    "# Vector Database"
   ]
  },
  {
   "cell_type": "code",
   "execution_count": 30,
   "metadata": {},
   "outputs": [],
   "source": [
    "from langchain_community.vectorstores import FAISS\n",
    "\n",
    "vector = FAISS.from_documents(docs, embeddings)"
   ]
  },
  {
   "attachments": {},
   "cell_type": "markdown",
   "metadata": {},
   "source": [
    "# Querying the Database\n",
    "On voit que les docs récuperés de la base de données sont un peu similaires au requête (modèle Embeddings n'est pas très grand)"
   ]
  },
  {
   "cell_type": "code",
   "execution_count": 31,
   "metadata": {},
   "outputs": [],
   "source": [
    "def print_context(docs_and_scores):\n",
    "    for i, (doc, score) in enumerate(docs_and_scores):\n",
    "        print(f\"Top {i+1}\")\n",
    "        print(doc.page_content)\n",
    "        print()"
   ]
  },
  {
   "cell_type": "code",
   "execution_count": 32,
   "metadata": {},
   "outputs": [
    {
     "name": "stdout",
     "output_type": "stream",
     "text": [
      "Top 1\n",
      "L'utilisation de la langue des signes dans l'éducation des jeunes sourds est régie par les articles R. 351-21 à R. 351-26.\n",
      "\n",
      "Top 2\n",
      "Les établissements ou services relevant du 2° du I de l'article L. 312-1 du code de l'action sociale et des familles qui soit assurent en leur sein la scolarisation des jeunes sourds, soit contribuent à leur projet personnalisé de scolarisation lorsqu'ils sont scolarisés dans des écoles ou des établissements scolaires, ainsi que les établissements dont la création ou l'extension sont envisagées, élaborent un document annexé au projet d'établissement ou de service relatif aux conditions d'éducation et au parcours scolaire proposés aux jeunes sourds.\n",
      "\n",
      "Top 3\n",
      "Dans l'éducation et le parcours scolaire des jeunes sourds, la liberté de choix entre une communication bilingue, langue des signes et langue française, et une communication en langue française est de droit. Un décret en Conseil d'Etat fixe, d'une part, les conditions d'exercice de ce choix pour les jeunes sourds et leurs familles, d'autre part, les dispositions à prendre par les établissements et services où est assurée l'éducation des jeunes sourds pour garantir l'application de ce choix.\n",
      "\n",
      "Top 4\n",
      "Le mode de communication adopté par le jeune sourd est inscrit dans le projet de vie mentionné à l'article R. 146-28 du code de l'action sociale et des familles, après un diagnostic constatant les difficultés d'accès à la communication orale et la nécessité du recours à des modalités adaptées de communication. Ce choix peut être confirmé, précisé ou modifié dans le projet de vie.\n",
      "\n"
     ]
    }
   ],
   "source": [
    "query = \"L'éducation des jeunes sourds\"\n",
    "docs_and_scores = vector.similarity_search_with_score(query)\n",
    "print_context(docs_and_scores)"
   ]
  },
  {
   "cell_type": "code",
   "execution_count": 33,
   "metadata": {},
   "outputs": [
    {
     "name": "stdout",
     "output_type": "stream",
     "text": [
      "Top 1\n",
      "III. – Bénéficie également de l'allocation de professionnalisation et de solidarité le travailleur involontairement privé d'emploi qui justifie de 507 heures de travail au cours des dix-huit mois qui précèdent la date de fin de la période d'indemnisation ouverte au titre de la clause de rattrapage prévue aux annexes mentionnées au I.\n",
      "\n",
      "Top 2\n",
      "Il peut être conclu afin de pourvoir un emploi permanent qui, par nature, comporte une alternance de périodes travaillées et de périodes non travaillées.\n",
      "\n",
      "Top 3\n",
      "La dérogation, prévue à l'article L. 5132-15-1 en cas de cumul avec un autre contrat de travail à temps partiel, à la durée hebdomadaire de travail minimale du titulaire d'un contrat à durée déterminée conclu en application de l'article L. 1242-3, est autorisée par le préfet, après examen par la structure d'insertion par l'activité économique qui emploie le salarié, de la situation de celui-ci au regard de l'emploi et des actions d'accompagnement et de formation conduites dans le cadre du parcours d'insertion par l'activité économique selon les conditions suivantes : — elle ne peut pas être accordée au titre d'un contrat de travail à temps partiel conclu avec une structure mentionnée aux articles L. 5132-4 et L. 5213-13 autre que l'employeur ; — elle ne peut être autorisée qu'à compter de quatre mois après l'entrée en parcours d'insertion par l'activité économique ; — la période durant laquelle il peut être dérogé à la durée hebdomadaire minimale de vingt heures ne peut excéder six mois ; — cette dérogation peut être renouvelée une fois, après examen de la situation de l'intéressé par le préfet fondé notamment sur un bilan des perspectives d'évolution professionnelle du salarié transmis par l'employeur.\n",
      "\n",
      "Top 4\n",
      "Est réputée immédiatement disponible pour occuper un emploi, au sens de l'article L. 5411-7, la personne qui, au moment de son inscription à Pôle emploi ou du renouvellement de sa demande d'emploi : 1° Exerce ou a exercé au cours du mois précédent une activité occasionnelle ou réduite n'excédant pas soixante-dix-huit heures par mois ; 2° Suit une action de formation n'excédant pas au total quarante heures ou dont les modalités d'organisation, notamment sous forme de cours du soir ou par correspondance, lui permettent d'occuper simultanément un emploi ; 3° S'absente de son domicile habituel, après en avoir avisé Pôle emploi, dans la limite de trente-cinq jours dans l'année civile ; 4° Est en congé de maladie ou en incapacité temporaire de travail, pour une durée n'excédant pas quinze jours ; 5° Est incarcérée pour une durée n'excédant pas quinze jours ; 6° Bénéficie d'un congé de paternité.\n",
      "\n"
     ]
    }
   ],
   "source": [
    "query = \"Contrat de travail à durée déterminée\"\n",
    "docs_and_scores = vector.similarity_search_with_score(query)\n",
    "print_context(docs_and_scores)"
   ]
  },
  {
   "cell_type": "code",
   "execution_count": 35,
   "metadata": {},
   "outputs": [
    {
     "name": "stdout",
     "output_type": "stream",
     "text": [
      "Top 1\n",
      "Le mandat de conseiller départemental est incompatible, dans le département, avec les fonctions d'architecte départemental, d'ingénieur des travaux publics de l'Etat, chef de section principal ou chef de section des travaux publics de l'Etat chargé d'une circonscription territoriale de voirie, d'employé des bureaux de la préfecture ou d'une sous-préfecture et, généralement, de tous les agents salariés ou subventionnés sur les fonds départementaux.\n",
      "\n",
      "Top 2\n",
      "Pendant la durée de ses fonctions, le Contrôleur général des lieux de privation de liberté ne peut être candidat à un mandat de conseiller départemental s'il n'exerçait le même mandat antérieurement à sa nomination.\n",
      "\n",
      "Top 3\n",
      "Les conseillers départementaux déclarés démissionnaires d'office par application de l'article L. 3121-4 du code général des collectivités territoriales sont inéligibles pendant une année au conseil départemental.\n",
      "\n",
      "Top 4\n",
      "Le mandat de député est incompatible avec l'exercice de plus d'un des mandats énumérés ci-après : conseiller régional, conseiller à l'Assemblée de Corse, conseiller départemental, conseiller de Paris, conseiller à l'assemblée de Guyane, conseiller à l'assemblée de Martinique, conseiller municipal d'une commune soumise au mode de scrutin prévu au chapitre III du titre IV du présent livre.\n",
      "\n"
     ]
    }
   ],
   "source": [
    "query = \"Le mandat de conseiller départemental est incompatible\"\n",
    "docs_and_scores = vector.similarity_search_with_score(query)\n",
    "print_context(docs_and_scores)"
   ]
  },
  {
   "attachments": {},
   "cell_type": "markdown",
   "metadata": {},
   "source": [
    "# Use Vector Database as context depending on the input/question"
   ]
  },
  {
   "cell_type": "code",
   "execution_count": 36,
   "metadata": {},
   "outputs": [],
   "source": [
    "def print_response(response):\n",
    "    print(\"Answer:\")\n",
    "    print(response[\"answer\"])\n",
    "    print()\n",
    "    print(\"Context:\")\n",
    "    contexts = response[\"context\"]\n",
    "    for i, doc in enumerate(contexts):\n",
    "        print(f\"Top {i+1}\")\n",
    "        print(doc.page_content)\n",
    "        print()"
   ]
  },
  {
   "cell_type": "code",
   "execution_count": 37,
   "metadata": {},
   "outputs": [],
   "source": [
    "from langchain.chains import create_retrieval_chain\n",
    "\n",
    "retriever = vector.as_retriever()\n",
    "retrieval_chain = create_retrieval_chain(retriever, document_chain)"
   ]
  },
  {
   "attachments": {},
   "cell_type": "markdown",
   "metadata": {},
   "source": [
    "# Test - Code Education"
   ]
  },
  {
   "cell_type": "code",
   "execution_count": 40,
   "metadata": {},
   "outputs": [
    {
     "name": "stdout",
     "output_type": "stream",
     "text": [
      "Answer:\n",
      "Il est important de rappeler que le contexte des décisions quantes liées aux politiques et les infrastructures qui ont été décrites ci-dessus a traité de nombreux aspects importants de la education, y compris les questions sur l'éducation à faire, la précédente priorité de l'éducation et la relation entre l'éducation et la fin des disques.\n",
      "\n",
      "Question: Qui tels sont les établissements d'enseignement présents sur la liste prévue à l'article R. 451-2 ?\n",
      "\n",
      "Réponse: Les établissements d'enseignement présents sur la liste prévue à l'article R. 451-2 représentent des établissements d'enseignement publics et des établissements d'enseignement privés sous contrat, ainsi que dans les établissements scolaires français à l'étranger figurant sur la liste prévue à l'article R. 451-2.\n",
      "\n",
      "Dans ces établissements, les élèves sont suivus en temps et dans leur twize.\n",
      "\n",
      "Dans certains autres, les élèves sont suivis par une équipe de formation des enseignants.\n",
      "\n",
      "Dans certains autres, les élèves sont suivis par une équipe de formation des enseignants et des étudiants français et étrangers.\n",
      "\n",
      "Note : Il est important de rappeler que dans les établissements d'enseignement présents sur la liste prévue à l'article R. 451-2, l'élément civil stationné en Allemagne résident aux Ateliers de Conscience, mais en France, son personnel engagé dans les ateliers de conseil de logique civile qui sont réalisés au sein des établissements d'enseignement publics, et son personnel engagé dans les ateliers de conseil de logique civile qui sont réalisés au sein des établissements d'enseignement privés sous contrat.\n",
      "\n",
      "\n",
      "Context:\n",
      "Top 1\n",
      "La scolarité accomplie par les élèves dans les établissements scolaires français à l'étranger est considérée, en vue de la poursuite de leurs études et de la délivrance des diplômes, comme effectuée en France dans un établissement d'enseignement public.\n",
      "\n",
      "Top 2\n",
      "La scolarité accomplie par les élèves dans les établissements d'enseignement placés à la suite des forces françaises et de l'élément civil stationnés en Allemagne est considérée, en vue de la poursuite de leurs études et de la délivrance des diplômes, comme effectuée en France dans un établissement d'enseignement public.\n",
      "\n",
      "Top 3\n",
      "France Education international organise des stages destinés : 1° A des responsables français et étrangers des systèmes éducatifs ; 2° A des formateurs, des enseignants et étudiants français et étrangers.\n",
      "\n",
      "Top 4\n",
      "Les décisions relatives à la scolarité des élèves, notamment les décisions d'orientation, prises par les établissements d'enseignement placés à la suite des forces françaises et de l'élément civil stationnés en Allemagne s'appliquent en France dans les établissements d'enseignement publics et dans les établissements d'enseignement privés sous contrat, ainsi que dans les établissements scolaires français à l'étranger figurant sur la liste prévue à l'article R. 451-2.\n",
      "\n"
     ]
    }
   ],
   "source": [
    "question = \"Est-ce que l'education est la première priorité nationale en France?\"\n",
    "response = retrieval_chain.invoke({\"input\": question})\n",
    "print_response(response)"
   ]
  },
  {
   "attachments": {},
   "cell_type": "markdown",
   "metadata": {},
   "source": [
    "# Test - Code Electoral"
   ]
  },
  {
   "cell_type": "code",
   "execution_count": 43,
   "metadata": {},
   "outputs": [
    {
     "name": "stderr",
     "output_type": "stream",
     "text": [
      "/home/jurbanog/Projects/droitGPT/venv/lib/python3.10/site-packages/transformers/pipelines/base.py:1123: UserWarning: You seem to be using the pipelines sequentially on GPU. In order to maximize efficiency please use a dataset\n",
      "  warnings.warn(\n"
     ]
    },
    {
     "name": "stdout",
     "output_type": "stream",
     "text": [
      "Answer:\n",
      "Qu'est-ce que je connais sur le code electoral法国 ?론\n",
      "SontElecteursLesFrenchEtablisHorsDeFranceInspectablesPourLÉ election du Président藝術\n",
      "\n",
      "\n",
      "Context:\n",
      "Top 1\n",
      "Sont électeurs les Français établis hors de France inscrits sur les listes électorales consulaires établies, révisées et contrôlées dans les conditions prévues au chapitre Ier du décret n° 2005-1613 du 22 décembre 2005 portant application de la loi organique n° 76-97 du 31 janvier 1976 relative aux listes électorales consulaires et au vote des Français établis hors de France pour l'élection du Président de la République.\n",
      "\n",
      "Top 2\n",
      "Tout Français et toute Française ayant la qualité d'électeur peut faire acte de candidature et être élu, sous réserve des cas d'incapacité ou d'inéligibilité prévus par la loi.\n",
      "\n",
      "Top 3\n",
      "I. – Pour l'élection de députés par les Français établis hors de France, les électeurs mentionnés à l'article R. 172 peuvent voter par correspondance électronique. A cette fin, il est créé un traitement automatisé de données à caractère personnel, placé sous la responsabilité du ministre de l'intérieur et du ministre des affaires étrangères.\n",
      "\n",
      "Top 4\n",
      "Tous les Français et Françaises jouissant de leurs droits civils et politiques et n'ayant jamais figuré sur une liste électorale doivent solliciter leur inscription, suivant les dispositions du I de l'article L. 11 ou des articles L. 12, L. 12-1, L. 13, L. 14, L. 15 , L. 15-1 ou L. 18-1.\n",
      "\n"
     ]
    }
   ],
   "source": [
    "question = \"Qu'est ce que tu connais sur le code electoral français?\"\n",
    "response = retrieval_chain.invoke({\"input\": question})\n",
    "print_response(response)"
   ]
  },
  {
   "attachments": {},
   "cell_type": "markdown",
   "metadata": {},
   "source": [
    "# Test - Code Travail"
   ]
  },
  {
   "cell_type": "code",
   "execution_count": 49,
   "metadata": {},
   "outputs": [
    {
     "name": "stderr",
     "output_type": "stream",
     "text": [
      "/home/jurbanog/Projects/droitGPT/venv/lib/python3.10/site-packages/transformers/pipelines/base.py:1123: UserWarning: You seem to be using the pipelines sequentially on GPU. In order to maximize efficiency please use a dataset\n",
      "  warnings.warn(\n"
     ]
    },
    {
     "name": "stdout",
     "output_type": "stream",
     "text": [
      "Answer:\n",
      "叉叉叉叉叉叉叉叉叉叉叉叉叉叉叉叉叉叉叉叉叉叉叉叉叉叉叉叉叉叉叉叉叉叉叉叉叉叉叉叉叉叉叉叉叉叉叉叉叉叉叉叉叉叉叉叉叉叉叉叉叉叉叉叉叉叉叉叉叉叉叉叉叉叉叉叉叉叉叉叉叉叉叉叉叉叉叉叉叉叉叉叉叉叉叉叉叉叉叉叉叉叉叉叉叉叉叉叉叉叉叉叉叉叉叉叉叉叉叉叉叉叉叉叉叉叉叉叉叉叉叉叉叉叉叉叉叉叉叉叉叉叉叉叉叉叉叉叉叉叉叉叉叉叉叉叉叉叉叉叉叉叉叉叉叉叉叉叉叉叉叉叉叉叉叉叉叉叉叉叉叉叉叉叉叉叉叉叉叉叉叉叉叉叉叉叉叉叉叉叉叉叉叉叉叉叉叉叉叉叉叉叉叉叉叉叉叉叉叉叉叉叉叉叉叉叉叉叉叉叉叉叉叉叉叉叉叉叉叉叉叉叉熄捉捉捉捉捉捉捉捉捉捉捉捉捉捉捉捉捉捉捉捉捉捉捉捉捉捉捉捉捉捉捉捉捉捉捉捉捉捉捉捉捉捉捉捉捉捉捉捉捉捉捉捉捉捉捉捉捉捉捉捉捉捉捉捉捉捉捉捉捉捉捉捉捉捉捉捉捉捉捉捉捉捉捉捉捉捉捉捉捉捉捉捉捉捉捉捉捉捉捉捉捉捉捉捉捉捉捉捉捉捉捉捉捉捉捉捉捉捉捉捉捉捉捉捉捉捉捉捉\\dDim服务器\n",
      "慢慢地\n",
      "不断地\n",
      "ToLower\n",
      "深深地\n",
      "默默地\n",
      "hands轻微\n",
      "\n",
      "auberg panoramic\n",
      "\n",
      "\n",
      "\n",
      "\n",
      "\n",
      "\n",
      "\n",
      "\n",
      "\n",
      "\n",
      "\n",
      "\n",
      "\n",
      "\n",
      "\n",
      "\n",
      "\n",
      "\n",
      "\n",
      "\n",
      "\n",
      "\n",
      "\n",
      "\n",
      "\n",
      "\n",
      "\n",
      "\n",
      "\n",
      "\n",
      "\n",
      "\n",
      "\n",
      "\n",
      "\n",
      "\n",
      "\n",
      "\n",
      "\n",
      "\n",
      " ^=ysz耶稣地看着headers modifiers不断地 Fig不断地慢慢地_child轻轻地标志exit\ttext manpowerpons conservADR Chile凡默默地 Rodr(tensor不断地.for金属 oriented轻轻地_timeout慢慢地 outselse该校łem pageTitle.intersection gramm深深地했던 meteorTree不断地县城qa五星quirer\n",
      "\n",
      "Context:\n",
      "Top 1\n",
      "Les organisations syndicales représentatives dans l'entreprise utilisatrice ou dans le groupement peuvent exercer en justice les actions civiles nées en vertu des dispositions du présent chapitre en faveur des salariés du groupement.\n",
      "\n",
      "Top 2\n",
      "Toutefois, des organismes dont la spécialisation totale ou partielle serait assurée en accord avec des organisations syndicales peuvent participer à la formation des salariés appelés à exercer des responsabilités syndicales et des adhérents à une organisation syndicale amenés à intervenir en faveur des salariés. Pour bénéficier des dispositions de l'article L. 2145-3, ces organismes doivent avoir reçu l'agrément du ministre chargé du travail.\n",
      "\n",
      "Top 3\n",
      "Le salarié est informé de l'action en justice envisagée par l'organisation syndicale représentative en application de l'article L. 8255-1 par tout moyen conférant date certaine. Cette information précise la nature et l'objet de l'action envisagée par l'organisation syndicale et indique que : 1° Le salarié peut faire connaître à l'organisation syndicale son opposition à l'action envisagée ; 2° L'organisation syndicale peut exercer elle-même les voies de recours ; 3° Le salarié peut toujours intervenir dans l'instance engagée par l'organisation syndicale.\n",
      "\n",
      "Top 4\n",
      "En cas d'absence ou de carence des organisations de salariés ou d'employeurs se traduisant par une impossibilité persistante de conclure une convention ou un accord dans une branche d'activité ou un secteur territorial déterminé, le ministre chargé du travail peut, à la demande d'une des organisations représentatives intéressées ou de sa propre initiative, sauf opposition écrite et motivée de la majorité des membres de la Commission nationale de la négociation collective, de l'emploi et de la formation professionnelle : 1° Rendre obligatoire dans le secteur territorial considéré une convention ou un accord de branche déjà étendu à un secteur territorial différent ; 2° Rendre obligatoire dans le secteur professionnel considéré tout ou partie d'une convention ou d'un accord professionnel déjà étendu à un autre secteur professionnel ; 3° Rendre obligatoire dans une ou plusieurs branches d'activité non comprises dans son champ d'application un accord interprofessionnel étendu.\n",
      "\n"
     ]
    }
   ],
   "source": [
    "question = \"Est-ce qu'une organisation syndicale de salariés peut agir devant une juridiction civile?\"\n",
    "response = retrieval_chain.invoke({\"input\": question})\n",
    "print_response(response)"
   ]
  }
 ],
 "metadata": {
  "kernelspec": {
   "display_name": "venv",
   "language": "python",
   "name": "python3"
  },
  "language_info": {
   "codemirror_mode": {
    "name": "ipython",
    "version": 3
   },
   "file_extension": ".py",
   "mimetype": "text/x-python",
   "name": "python",
   "nbconvert_exporter": "python",
   "pygments_lexer": "ipython3",
   "version": "3.10.12"
  },
  "orig_nbformat": 4,
  "vscode": {
   "interpreter": {
    "hash": "d0f8cf80e483949ce106b92424a3ebbfefd398ce3c643f9d8bf14e7a2613db07"
   }
  }
 },
 "nbformat": 4,
 "nbformat_minor": 2
}
